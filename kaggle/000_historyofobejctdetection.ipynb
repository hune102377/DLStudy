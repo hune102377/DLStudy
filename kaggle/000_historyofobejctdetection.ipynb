{
 "cells": [
  {
   "cell_type": "markdown",
   "metadata": {},
   "source": [
    "![00](./img/00.png)"
   ]
  },
  {
   "cell_type": "markdown",
   "metadata": {},
   "source": [
    "## **RCNN**"
   ]
  },
  {
   "cell_type": "markdown",
   "metadata": {},
   "source": [
    "#### **1. 배경**"
   ]
  },
  {
   "cell_type": "markdown",
   "metadata": {},
   "source": [
    "1) 단순화의 필요성 : 기존 Object Detection 모델인 DPM의 복잡했던 classification\n",
    "2) 시간복잡도 : 각각의 bounding box에서 dpm classification을 수행하여 시간이 오래걸렸었음"
   ]
  },
  {
   "cell_type": "markdown",
   "metadata": {},
   "source": [
    "#### **2. 구조**\n"
   ]
  },
  {
   "cell_type": "markdown",
   "metadata": {},
   "source": [
    "**1. Extract region proposals**"
   ]
  },
  {
   "cell_type": "markdown",
   "metadata": {},
   "source": [
    "객체가 될 만한 영역들에 대해 가능성 있는 객체 상자(candidate bounding box)를 slective search 방식으로 선별(proposal)"
   ]
  },
  {
   "cell_type": "markdown",
   "metadata": {},
   "source": [
    "**2. Compute CNN Features**"
   ]
  },
  {
   "cell_type": "markdown",
   "metadata": {},
   "source": [
    "1번 과정에서 선별된 candidate bounding box들은 특징을 추출하기 위해 각각마다 CNN이 수행되어 AlexNet을 통해 특성이 추출된다"
   ]
  },
  {
   "cell_type": "markdown",
   "metadata": {},
   "source": [
    "**3. Classify regions**"
   ]
  },
  {
   "cell_type": "markdown",
   "metadata": {},
   "source": [
    "2번 과정에서 feature extraction을 한 후에는 SVM을 통해 classification을 하게 된다"
   ]
  },
  {
   "cell_type": "markdown",
   "metadata": {},
   "source": [
    "#### **3. Training 과정**"
   ]
  },
  {
   "cell_type": "markdown",
   "metadata": {},
   "source": [
    "**1. SVM을 이용한 Classification**"
   ]
  },
  {
   "cell_type": "markdown",
   "metadata": {},
   "source": [
    "candidate bounding box에 대해서 Gound truth 데이터와 loU가 50%가 이상이면 positive로 판단 아니라면 negative로 인식  \n",
    "이후 postivie로 선정된 bounding box에 대해서만 학습이 된다"
   ]
  },
  {
   "cell_type": "markdown",
   "metadata": {},
   "source": [
    "**2. bounding box를 그리는 localization 학습**"
   ]
  },
  {
   "cell_type": "markdown",
   "metadata": {},
   "source": [
    "![01.png](./img/01.png)"
   ]
  },
  {
   "cell_type": "markdown",
   "metadata": {},
   "source": [
    "Selective search와 GT가 맞지 않는 경우 좌표정보를 비교하여 regression으로 조정해가며 학습한다"
   ]
  },
  {
   "cell_type": "markdown",
   "metadata": {},
   "source": [
    "---\n",
    "---"
   ]
  },
  {
   "cell_type": "markdown",
   "metadata": {},
   "source": [
    "## **SPP NET**"
   ]
  },
  {
   "cell_type": "markdown",
   "metadata": {},
   "source": [
    "#### **1. 배경**"
   ]
  },
  {
   "cell_type": "markdown",
   "metadata": {},
   "source": [
    "1) 시간복잡도 : RCNN의 경우 많은 수의 candidate bounding box를 많들었기 때문에 detection 하는데 많은 시간이 소모됨\n",
    "2) warping으로 인한 왜곡(Distortion) : RCNN에서 feature를 뽑아내기 위해 AlexNet을 사용했는데 이는 이미지 사이즈를 27x27로 맞춰야 한다. 이러한 과정에서 이미지의 왜곡이 발생한다는 단점이 존재한다."
   ]
  },
  {
   "cell_type": "markdown",
   "metadata": {},
   "source": [
    "#### **2. 구조**"
   ]
  },
  {
   "cell_type": "markdown",
   "metadata": {},
   "source": [
    "1. RCNN에 비해 CNN 연산 감소 : input에 대해 CNN을 진행하고 다섯번째의 feature map을 기반으로 candidate bounding box를 선별하여 결과적으로 한 번의 CNN만 진행하게 된다\n",
    "\n",
    "2. warping을 인한 왜곡 X : spatial pyramid pooling 개념을 사용해 distortion을 없애준다\n",
    "\n",
    "    * 2.1. 다섯번째 conv layer 이후 region proposal 방식으로 candidate bounding box를 선별\n",
    "\n",
    "    * 2.2. bounding box에서 spatial pyramid pooling 알고리즘을 적용\n",
    "\n",
    "    * ![img02](./img/02.png) SPP-Net은 1x1 2x2 4x4의 spatial bin 사용\n",
    "\n",
    "    * flatten(21개의 feature 사용 1x1 + 2x2x + 4x4)"
   ]
  },
  {
   "cell_type": "markdown",
   "metadata": {},
   "source": [
    "---\n",
    "---"
   ]
  },
  {
   "cell_type": "markdown",
   "metadata": {},
   "source": [
    "## **Fast RCNN**"
   ]
  },
  {
   "cell_type": "markdown",
   "metadata": {},
   "source": [
    "#### **1. 배경**"
   ]
  },
  {
   "cell_type": "markdown",
   "metadata": {},
   "source": [
    "1.1.) SPP-Net 단점\n",
    "1) Three Stage Pipeline(RCNN과 SPP-Net의 공통 단점)\n",
    "2) Fine-tuning 후 softmax를 사용하지 않고 SVM을 사용, 학습\n",
    "3) classification 학습 후 bounding box regression을 학습\n",
    "\n",
    "위 과정을 통해서 시간 소모가 많다\n",
    "\n",
    "1.2.) Feature vectors stored in harddisk\n",
    "RCNN은 Conv layer에서의 feature map을 하드디스크에 저장하고 그 정보를 SVM 학습 때 가져다 쓰기 때문에 접근 시간에 따른 시간 소모가 크다\n",
    "\n",
    "1.3.) 느린 Test time\n",
    "Real-time 으로 detection 하기에 이전 모델에 느린 속도를 보인다."
   ]
  },
  {
   "cell_type": "markdown",
   "metadata": {},
   "source": [
    "#### **2. 구조**"
   ]
  },
  {
   "cell_type": "markdown",
   "metadata": {},
   "source": []
  },
  {
   "cell_type": "markdown",
   "metadata": {},
   "source": [
    "---\n",
    "---"
   ]
  }
 ],
 "metadata": {
  "kernelspec": {
   "display_name": "Python 3.9.12 ('base')",
   "language": "python",
   "name": "python3"
  },
  "language_info": {
   "codemirror_mode": {
    "name": "ipython",
    "version": 3
   },
   "file_extension": ".py",
   "mimetype": "text/x-python",
   "name": "python",
   "nbconvert_exporter": "python",
   "pygments_lexer": "ipython3",
   "version": "3.9.12"
  },
  "orig_nbformat": 4,
  "vscode": {
   "interpreter": {
    "hash": "263930470851f494f0ed2879c35b57985588df20f9e529b86e97dd5eb9ddc466"
   }
  }
 },
 "nbformat": 4,
 "nbformat_minor": 2
}
