{
 "cells": [
  {
   "cell_type": "markdown",
   "metadata": {},
   "source": [
    "참고자료 : https://suy379.tistory.com/90?category=937254  \n",
    "- 이번 챕터에서 배울 수 있는 점\n",
    "    * 이미지, 동영상 데이터를 불러오는 방법\n",
    "    * 동영상을 이미지로 나눠서 저장하는 방법\n",
    "    * 이미지, 동영상 속에서 사람의 얼굴을 검출하는 방법\n",
    "    * 원본 영상에서 사람 얼굴을 검출하고 짧은 타임랩스 영상 만들기"
   ]
  },
  {
   "cell_type": "markdown",
   "metadata": {},
   "source": [
    "**OpenCV 라이브러리 : 이미지 및 동영상 데이터 다루는 라이브러리**  \n",
    "**dlib 라이브러리 : 얼굴 안면 인식을 가능하게 하는 라이브러리**"
   ]
  },
  {
   "cell_type": "markdown",
   "metadata": {},
   "source": [
    "### **1. 데이터 불러오기**"
   ]
  },
  {
   "cell_type": "markdown",
   "metadata": {},
   "source": [
    "##### 1.1 이미지 불러오기"
   ]
  },
  {
   "cell_type": "markdown",
   "metadata": {},
   "source": [
    "**[중요 메서드]**  \n",
    "\n",
    "\n",
    "    - cv2.imread(path) : path로부터 이미지 파일을 읽어온다.\n",
    "    - cv2.imshow('file', file) : 파일명을 통해 이미지 파일을 연다\n",
    "    - cv2.waitKey(숫자) : 숫자에 지정한 밀리초 만큼 이미지를 표시한다. 단, 0으로 지정하면 사용자가 창을 닫아야한다."
   ]
  },
  {
   "cell_type": "code",
   "execution_count": 1,
   "metadata": {},
   "outputs": [],
   "source": [
    "import cv2 # 이미지 파일을 다루는 OpenCV 라이브러리 불러오기"
   ]
  },
  {
   "cell_type": "code",
   "execution_count": 2,
   "metadata": {},
   "outputs": [
    {
     "name": "stdout",
     "output_type": "stream",
     "text": [
      "img width : 960\n",
      "img height : 640\n"
     ]
    }
   ],
   "source": [
    "# 이미지 파일읽어보기\n",
    "img = cv2.imread('./data/img/01.jpg')\n",
    "# 이미지의 길이와 넓이 저장\n",
    "height, width = img.shape[:2]\n",
    "\n",
    "print('img width :', width)\n",
    "print('img height :', height)"
   ]
  },
  {
   "cell_type": "code",
   "execution_count": 3,
   "metadata": {},
   "outputs": [
    {
     "data": {
      "text/plain": [
       "-1"
      ]
     },
     "execution_count": 3,
     "metadata": {},
     "output_type": "execute_result"
    }
   ],
   "source": [
    "# 이미지 확인\n",
    "cv2.imshow('img', img)\n",
    "cv2.waitKey(0)"
   ]
  },
  {
   "cell_type": "markdown",
   "metadata": {},
   "source": [
    "##### 1.2 동영상 불러오기"
   ]
  },
  {
   "cell_type": "markdown",
   "metadata": {},
   "source": [
    "영상 출처  \n",
    "mov01 : https://www.youtube.com/watch?v=bp6hhq8DdgU  \n",
    "mov02 : https://www.youtube.com/watch?v=RICA_Su1blM"
   ]
  },
  {
   "cell_type": "markdown",
   "metadata": {},
   "source": [
    "**[중요 메서드]**\n",
    "\n",
    "    - cap = cv2.VideoCapture(path) : path로부터 동영상 파일을 불러와 'cap'으로 저장\n",
    "    - cap.read() : 영상 정보를 읽어온다.\n",
    "    - cap.get() : 영상 정보를 읽어오면서 옵션으로 특정 정보만 뽑을 수 있다.\n",
    "        * cv2.CAP_PROP_FRAME_WIDTH : width 정보\n",
    "        * cv2.CAP_PROP_FRAME_HEIGHT : height 정보\n",
    "        * cv2.CAP_PROP_FRAME_COUNT : 영상 총 프레임 수 정보\n",
    "        * cv2.CAP_PROP_FPS : 영상 fps 값\n",
    "    - cv2.imshow('file', 'file) : 영상 파일을 연다.\n",
    "    - cv2.waitKey(숫자) : 숫자에 지정한 밀리초(ms) 만큼 영상을 표시\n",
    "    - cv2.destroyAllWindows() : 모든 열려있는 창(영상, 이미지)를 닫는다."
   ]
  },
  {
   "cell_type": "code",
   "execution_count": 4,
   "metadata": {},
   "outputs": [
    {
     "data": {
      "text/plain": [
       "< cv2.VideoCapture 000002634A4628F0>"
      ]
     },
     "execution_count": 4,
     "metadata": {},
     "output_type": "execute_result"
    }
   ],
   "source": [
    "# 동영상 불러오기\n",
    "cap = cv2.VideoCapture('./data/mov/mov01.mp4')\n",
    "cap"
   ]
  },
  {
   "cell_type": "code",
   "execution_count": 5,
   "metadata": {},
   "outputs": [
    {
     "name": "stdout",
     "output_type": "stream",
     "text": [
      "가로 : 1280.0\n",
      "세로 : 720.0\n",
      "총 프레임 수 : 268.0\n",
      "FPS : 23.976023976023978\n"
     ]
    }
   ],
   "source": [
    "# 동영상 정보\n",
    "width = cap.get(cv2.CAP_PROP_FRAME_WIDTH)\n",
    "height = cap.get(cv2.CAP_PROP_FRAME_HEIGHT)\n",
    "count = cap.get(cv2.CAP_PROP_FRAME_COUNT)\n",
    "fps = cap.get(cv2.CAP_PROP_FPS)\n",
    "\n",
    "print('가로 :', str(width))\n",
    "print('세로 :', str(height))\n",
    "print('총 프레임 수 :', str(count))\n",
    "print('FPS :', str(fps))"
   ]
  },
  {
   "cell_type": "code",
   "execution_count": 6,
   "metadata": {},
   "outputs": [],
   "source": [
    "# 동영상 - 출력\n",
    "while(cap.isOpened()) :\n",
    "    ret, frame = cap.read()\n",
    "    if ret :\n",
    "        cv2.imshow('frame', frame)\n",
    "    # 'q'키를 누르면 영상 종료\n",
    "    if cv2.waitKey(1) & 0xFF == ord('q') :\n",
    "        break\n",
    "\n",
    "cap.release()\n",
    "cv2.destroyAllWindows()"
   ]
  },
  {
   "cell_type": "markdown",
   "metadata": {},
   "source": [
    "##### 1.3 동영상을 이미지로 나누고 저장"
   ]
  },
  {
   "cell_type": "code",
   "execution_count": 7,
   "metadata": {},
   "outputs": [],
   "source": [
    "cap = cv2.VideoCapture('./data/mov/mov01.mp4')\n",
    "num = 0\n",
    "\n",
    "while(cap.isOpened()) :\n",
    "    ret, frame = cap.read()\n",
    "    if ret :\n",
    "        cv2.imshow('frame', frame)\n",
    "        # 이미지의 각 이름을 자동으로 지정\n",
    "        path ='./data/snapshot/snap01/snapshot_' + str(num) + '.jpg'\n",
    "        cv2.imwrite(path, frame)\n",
    "    if cv2.waitKey(1) & 0xFF == ord('q') :\n",
    "        break\n",
    "    num += 1\n",
    "\n",
    "cap.release()\n",
    "cv2.destroyAllWindows()"
   ]
  },
  {
   "cell_type": "markdown",
   "metadata": {},
   "source": [
    "### **2. 이미지에서 얼굴 인식**"
   ]
  },
  {
   "cell_type": "markdown",
   "metadata": {},
   "source": [
    "##### 2.1 이미지 속 사람 검출 (HOG-SVMDectector 모델)"
   ]
  },
  {
   "cell_type": "markdown",
   "metadata": {},
   "source": [
    "**[주요 메서드]**\n",
    "\n",
    "- hog = cv2.HOGDescriptor() : HOG 객체 만들기\n",
    "- hog.setSVMDetector(HOGDescriptor_getDefaultPeopleDetector()) : SVMDetector 모델 지정하기\n",
    "- hogParams = {} : 파라미터 지정하기\n",
    "\n",
    "- cv2.cvtColor(img, cv2.COLOR_BGR2GRAY) : 흑백으로 변환\n",
    "- hog.detectMultiScale(객체,hogParams) : 흑백으로 변환한 객체와 파라미터를 input으로 넣고 그 위치정보를 반환\n",
    "- cv2.rectangel(img, pt1, pt2, color, thickness) : 검출한 사람 주위에 사각형을 그리는 메서드\n",
    "    * pt1 : 시작점 좌표\n",
    "    * pt2 : 종료점 좌표\n",
    "    * color : 사각형 색\n",
    "    * thickness : 사각형 선 굵기"
   ]
  },
  {
   "cell_type": "code",
   "execution_count": 17,
   "metadata": {},
   "outputs": [],
   "source": [
    "# 객체 생성\n",
    "hog = cv2.HOGDescriptor()\n",
    "# 모델 지정\n",
    "hog.setSVMDetector(cv2.HOGDescriptor_getDefaultPeopleDetector())\n",
    "# 파라미터 설정\n",
    "hogParams = {'winStride' : (8, 8), 'padding' : (32,32), 'scale' : 1.05, 'hitThreshold' : 0}"
   ]
  },
  {
   "cell_type": "code",
   "execution_count": 30,
   "metadata": {},
   "outputs": [],
   "source": [
    "# 이미지 읽기\n",
    "img = cv2.imread('./data/img/02.png')\n",
    "# 흑백변화\n",
    "gray = cv2.cvtColor(img, cv2.COLOR_BGR2GRAY)\n",
    "# 사람 검출\n",
    "human, r = hog.detectMultiScale(gray, **hogParams)"
   ]
  },
  {
   "cell_type": "code",
   "execution_count": 31,
   "metadata": {},
   "outputs": [
    {
     "data": {
      "text/plain": [
       "-1"
      ]
     },
     "execution_count": 31,
     "metadata": {},
     "output_type": "execute_result"
    }
   ],
   "source": [
    "if (len(human) > 0) :\n",
    "    for (x, y, w, h) in human :\n",
    "        cv2.rectangle(img, (x, y), (x+w, y+h), (0, 255, 0), 3)\n",
    "cv2.imshow('img', img)\n",
    "cv2.waitKey(0)"
   ]
  }
 ],
 "metadata": {
  "kernelspec": {
   "display_name": "Python 3.9.12 ('base')",
   "language": "python",
   "name": "python3"
  },
  "language_info": {
   "codemirror_mode": {
    "name": "ipython",
    "version": 3
   },
   "file_extension": ".py",
   "mimetype": "text/x-python",
   "name": "python",
   "nbconvert_exporter": "python",
   "pygments_lexer": "ipython3",
   "version": "3.9.12"
  },
  "orig_nbformat": 4,
  "vscode": {
   "interpreter": {
    "hash": "263930470851f494f0ed2879c35b57985588df20f9e529b86e97dd5eb9ddc466"
   }
  }
 },
 "nbformat": 4,
 "nbformat_minor": 2
}
