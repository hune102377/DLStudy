{
 "cells": [
  {
   "cell_type": "markdown",
   "metadata": {},
   "source": [
    "동영상에서 사람 얼굴 인식하기, 타임랩스 만들기"
   ]
  },
  {
   "cell_type": "code",
   "execution_count": 9,
   "metadata": {},
   "outputs": [],
   "source": [
    "import cv2"
   ]
  },
  {
   "cell_type": "code",
   "execution_count": 10,
   "metadata": {},
   "outputs": [],
   "source": [
    "# 동영상 읽어오기\n",
    "cap = cv2.VideoCapture('./data/mov/mov02.mp4')\n",
    "width = int(cap.get(cv2.CAP_PROP_FRAME_WIDTH))\n",
    "height = int(cap.get(cv2.CAP_PROP_FRAME_HEIGHT))"
   ]
  },
  {
   "cell_type": "code",
   "execution_count": 11,
   "metadata": {},
   "outputs": [],
   "source": [
    "# hog 모델 - 사람 인식\n",
    "hog = cv2.HOGDescriptor()\n",
    "hog.setSVMDetector(cv2.HOGDescriptor_getDefaultPeopleDetector())\n",
    "hogParams = {'winStride' : (8, 8), 'padding' : (32, 32), 'scale' : 1.05, 'hitThreshold' : 0}"
   ]
  },
  {
   "cell_type": "code",
   "execution_count": 12,
   "metadata": {},
   "outputs": [],
   "source": [
    "# 타임랩스 작성\n",
    "movie_name = 'timelapse2.avi'\n",
    "fourcc = cv2.VideoWriter_fourcc(*'XVID')\n",
    "video = cv2.VideoWriter(movie_name, fourcc, 30, (width, height))"
   ]
  },
  {
   "cell_type": "code",
   "execution_count": 13,
   "metadata": {},
   "outputs": [],
   "source": [
    "num = 0\n",
    "while(cap.isOpened()) :\n",
    "    ret, frame = cap.read()\n",
    "    if ret :\n",
    "        if ( num%10 == 0) :\n",
    "            gray = cv2.cvtColor(frame, cv2.COLOR_BGR2GRAY)\n",
    "            human, r = hog.detectMultiScale(gray, **hogParams)\n",
    "            if (len(human) > 0) :\n",
    "                for (x, y, w, h) in human :\n",
    "                    cv2.rectangle(frame, (x,y), (x+w, y+h), (0, 0, 255), 3)\n",
    "                video.write(frame)\n",
    "        \n",
    "    else : break\n",
    "\n",
    "video.release()\n",
    "cap.release()\n",
    "cv2.destroyAllWindows()"
   ]
  },
  {
   "cell_type": "code",
   "execution_count": 14,
   "metadata": {},
   "outputs": [
    {
     "data": {
      "text/plain": [
       "< cv2.VideoCapture 0000022BE40C0B90>"
      ]
     },
     "execution_count": 14,
     "metadata": {},
     "output_type": "execute_result"
    }
   ],
   "source": [
    "# 동영상 불러오기\n",
    "cap = cv2.VideoCapture('./timelapse2.avi')\n",
    "cap"
   ]
  },
  {
   "cell_type": "code",
   "execution_count": 15,
   "metadata": {},
   "outputs": [
    {
     "name": "stdout",
     "output_type": "stream",
     "text": [
      "가로 : 1280.0\n",
      "세로 : 720.0\n",
      "총 프레임 수 : 397.0\n",
      "FPS : 30.0\n"
     ]
    }
   ],
   "source": [
    "# 동영상 정보\n",
    "width = cap.get(cv2.CAP_PROP_FRAME_WIDTH)\n",
    "height = cap.get(cv2.CAP_PROP_FRAME_HEIGHT)\n",
    "count = cap.get(cv2.CAP_PROP_FRAME_COUNT)\n",
    "fps = cap.get(cv2.CAP_PROP_FPS)\n",
    "\n",
    "print('가로 :', str(width))\n",
    "print('세로 :', str(height))\n",
    "print('총 프레임 수 :', str(count))\n",
    "print('FPS :', str(fps))"
   ]
  },
  {
   "cell_type": "code",
   "execution_count": 16,
   "metadata": {},
   "outputs": [],
   "source": [
    "# 동영상 - 출력\n",
    "while(cap.isOpened()) :\n",
    "    ret, frame = cap.read()\n",
    "    if ret :\n",
    "        cv2.imshow('frame', frame)\n",
    "    # 'q'키를 누르면 영상 종료\n",
    "    if cv2.waitKey(1) & 0xFF == ord('q') :\n",
    "        break\n",
    "\n",
    "cap.release()\n",
    "cv2.destroyAllWindows()"
   ]
  }
 ],
 "metadata": {
  "kernelspec": {
   "display_name": "Python 3.9.12 ('base')",
   "language": "python",
   "name": "python3"
  },
  "language_info": {
   "codemirror_mode": {
    "name": "ipython",
    "version": 3
   },
   "file_extension": ".py",
   "mimetype": "text/x-python",
   "name": "python",
   "nbconvert_exporter": "python",
   "pygments_lexer": "ipython3",
   "version": "3.9.12"
  },
  "orig_nbformat": 4,
  "vscode": {
   "interpreter": {
    "hash": "263930470851f494f0ed2879c35b57985588df20f9e529b86e97dd5eb9ddc466"
   }
  }
 },
 "nbformat": 4,
 "nbformat_minor": 2
}
