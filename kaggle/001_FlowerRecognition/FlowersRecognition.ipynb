{
 "cells": [
  {
   "cell_type": "markdown",
   "metadata": {},
   "source": [
    "# Flowers Recognition"
   ]
  },
  {
   "cell_type": "markdown",
   "metadata": {},
   "source": [
    "#### **CNN Architectures : VGG, ResNet, Inception + TL**"
   ]
  },
  {
   "cell_type": "markdown",
   "metadata": {},
   "source": [
    "자료 출처 : https://www.kaggle.com/datasets/alxmamaev/flowers-recognition  \n",
    "참고자료 : https://www.kaggle.com/code/shivamb/cnn-architectures-vgg-resnet-inception-tl"
   ]
  },
  {
   "cell_type": "markdown",
   "metadata": {},
   "source": [
    "---\n",
    "---"
   ]
  },
  {
   "cell_type": "markdown",
   "metadata": {},
   "source": [
    "##### **1. CNN Architectures**"
   ]
  },
  {
   "cell_type": "markdown",
   "metadata": {},
   "source": [
    "1.1 VGG16"
   ]
  },
  {
   "cell_type": "markdown",
   "metadata": {},
   "source": [
    "vgg는 2014년에 출시되어 다른 이미지 모듈에 비해서 가장 간단한 모델 중 하나다.  \n",
    "\n",
    "vgg의 주요 특징으로는  \n",
    "- 1) 기존의 학습되어 있는 가중치와 절편이 있는 16개의 레이어로 구성되어있다.  \n",
    "- 2) 13개의 합성곱 레이어가 하나로 구성되었고 3개의 분류 레이어로 구성되어있다.  \n",
    "- 3) 합성공 레이어의 경우 특정한 증가 패턴으로 구성되어있다.  \n",
    "- 4) max pooling 레이어가 각기 다른 구조로 형성되어 있어 유익한 특성을 추출한다.  \n",
    "- 5) 마지막 3개의 레이어의 4096, 4096, 1000개의 노드들로 각기 구성되어있다.  \n",
    "- 6) 단점으로는 느리다는 점이다.   "
   ]
  },
  {
   "cell_type": "markdown",
   "metadata": {},
   "source": [
    "VGG16 구현"
   ]
  },
  {
   "cell_type": "code",
   "execution_count": null,
   "metadata": {},
   "outputs": [],
   "source": [
    "from keras.layers import Input, Conv2D, MaxPooling2D"
   ]
  },
  {
   "cell_type": "code",
   "execution_count": null,
   "metadata": {},
   "outputs": [],
   "source": []
  }
 ],
 "metadata": {
  "kernelspec": {
   "display_name": "Python 3.9.12 ('base')",
   "language": "python",
   "name": "python3"
  },
  "language_info": {
   "name": "python",
   "version": "3.9.12"
  },
  "orig_nbformat": 4,
  "vscode": {
   "interpreter": {
    "hash": "263930470851f494f0ed2879c35b57985588df20f9e529b86e97dd5eb9ddc466"
   }
  }
 },
 "nbformat": 4,
 "nbformat_minor": 2
}
