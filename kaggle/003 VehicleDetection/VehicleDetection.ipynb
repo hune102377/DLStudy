{
 "cells": [
  {
   "cell_type": "code",
   "execution_count": 17,
   "metadata": {},
   "outputs": [],
   "source": [
    "import numpy as np\n",
    "import pandas as pd\n",
    "import os"
   ]
  },
  {
   "cell_type": "code",
   "execution_count": 18,
   "metadata": {},
   "outputs": [
    {
     "name": "stdout",
     "output_type": "stream",
     "text": [
      "./data/Indian_Number_plates.json\n"
     ]
    }
   ],
   "source": [
    "for dirname, _, filenames in os.walk('./data/') :\n",
    "    for filename in filenames:\n",
    "        print(os.path.join(dirname, filename)) "
   ]
  },
  {
   "cell_type": "markdown",
   "metadata": {},
   "source": [
    "---  "
   ]
  },
  {
   "cell_type": "code",
   "execution_count": 19,
   "metadata": {},
   "outputs": [],
   "source": [
    "from IPython.display import Image as IPythonImage\n",
    "\n",
    "from PIL import Image\n",
    "import cv2\n",
    "\n",
    "import matplotlib.pyplot as plt\n",
    "import matplotlib.image as mpimg\n",
    "%matplotlib inline\n",
    "\n",
    "from dicttoxml import dicttoxml\n",
    "import pprint\n",
    "\n",
    "import urllib\n",
    "\n",
    "from hyperdash import monitor"
   ]
  },
  {
   "cell_type": "code",
   "execution_count": 20,
   "metadata": {},
   "outputs": [],
   "source": [
    "def display_img(img_path) :\n",
    "    img = IPythonImage(filename=img_path)\n",
    "    display(img)"
   ]
  },
  {
   "cell_type": "code",
   "execution_count": 21,
   "metadata": {},
   "outputs": [
    {
     "data": {
      "text/html": [
       "<div>\n",
       "<style scoped>\n",
       "    .dataframe tbody tr th:only-of-type {\n",
       "        vertical-align: middle;\n",
       "    }\n",
       "\n",
       "    .dataframe tbody tr th {\n",
       "        vertical-align: top;\n",
       "    }\n",
       "\n",
       "    .dataframe thead th {\n",
       "        text-align: right;\n",
       "    }\n",
       "</style>\n",
       "<table border=\"1\" class=\"dataframe\">\n",
       "  <thead>\n",
       "    <tr style=\"text-align: right;\">\n",
       "      <th></th>\n",
       "      <th>content</th>\n",
       "      <th>annotation</th>\n",
       "      <th>extras</th>\n",
       "    </tr>\n",
       "  </thead>\n",
       "  <tbody>\n",
       "    <tr>\n",
       "      <th>0</th>\n",
       "      <td>http://com.dataturks.a96-i23.open.s3.amazonaws...</td>\n",
       "      <td>[{'label': ['number_plate'], 'notes': '', 'poi...</td>\n",
       "      <td>NaN</td>\n",
       "    </tr>\n",
       "    <tr>\n",
       "      <th>1</th>\n",
       "      <td>http://com.dataturks.a96-i23.open.s3.amazonaws...</td>\n",
       "      <td>[{'label': ['number_plate'], 'notes': '', 'poi...</td>\n",
       "      <td>NaN</td>\n",
       "    </tr>\n",
       "    <tr>\n",
       "      <th>2</th>\n",
       "      <td>http://com.dataturks.a96-i23.open.s3.amazonaws...</td>\n",
       "      <td>[{'label': ['number_plate'], 'notes': '', 'poi...</td>\n",
       "      <td>NaN</td>\n",
       "    </tr>\n",
       "    <tr>\n",
       "      <th>3</th>\n",
       "      <td>http://com.dataturks.a96-i23.open.s3.amazonaws...</td>\n",
       "      <td>[{'label': ['number_plate'], 'notes': '', 'poi...</td>\n",
       "      <td>NaN</td>\n",
       "    </tr>\n",
       "    <tr>\n",
       "      <th>4</th>\n",
       "      <td>http://com.dataturks.a96-i23.open.s3.amazonaws...</td>\n",
       "      <td>[{'label': ['number_plate'], 'notes': '', 'poi...</td>\n",
       "      <td>NaN</td>\n",
       "    </tr>\n",
       "  </tbody>\n",
       "</table>\n",
       "</div>"
      ],
      "text/plain": [
       "                                             content  \\\n",
       "0  http://com.dataturks.a96-i23.open.s3.amazonaws...   \n",
       "1  http://com.dataturks.a96-i23.open.s3.amazonaws...   \n",
       "2  http://com.dataturks.a96-i23.open.s3.amazonaws...   \n",
       "3  http://com.dataturks.a96-i23.open.s3.amazonaws...   \n",
       "4  http://com.dataturks.a96-i23.open.s3.amazonaws...   \n",
       "\n",
       "                                          annotation  extras  \n",
       "0  [{'label': ['number_plate'], 'notes': '', 'poi...     NaN  \n",
       "1  [{'label': ['number_plate'], 'notes': '', 'poi...     NaN  \n",
       "2  [{'label': ['number_plate'], 'notes': '', 'poi...     NaN  \n",
       "3  [{'label': ['number_plate'], 'notes': '', 'poi...     NaN  \n",
       "4  [{'label': ['number_plate'], 'notes': '', 'poi...     NaN  "
      ]
     },
     "execution_count": 21,
     "metadata": {},
     "output_type": "execute_result"
    }
   ],
   "source": [
    "datasource = './data/Indian_Number_plates.json'\n",
    "number_plates_json = pd.read_json(datasource, lines=True)\n",
    "number_plates_json.head()"
   ]
  },
  {
   "cell_type": "code",
   "execution_count": 22,
   "metadata": {},
   "outputs": [
    {
     "name": "stdout",
     "output_type": "stream",
     "text": [
      "[{'imageHeight': 466,\n",
      "  'imageWidth': 806,\n",
      "  'label': ['number_plate'],\n",
      "  'notes': '',\n",
      "  'points': [{'x': 0.722084367245657, 'y': 0.5879828326180251},\n",
      "             {'x': 0.8684863523573201, 'y': 0.688841201716738}]}]\n"
     ]
    }
   ],
   "source": [
    "pprint.pprint(number_plates_json['annotation'][0])"
   ]
  },
  {
   "cell_type": "code",
   "execution_count": 23,
   "metadata": {},
   "outputs": [],
   "source": [
    "def get_annotation_xml(filename, top_x=0, top_y=0, bottom_x=1, bottom_y=1, width=224, height=224) :\n",
    "    annotation={\n",
    "        \"folder\": \"images\",\n",
    "        \"filename\": filename,\n",
    "        \"path\": \"/content/drive/My Drive/alpr/images\" + filename,\n",
    "        \"source\": {\"database\": \"Unknown\"},\n",
    "        \"size\": {\"width\": width, \"height\": height, \"depth\": 3},\n",
    "        \"segmented\": 0,\n",
    "        \"object\": {\n",
    "            \"name\": \"number_plate\",\n",
    "            \"pose\": \"Unspecified\",\n",
    "            \"truncated\": 0,\n",
    "            \"difficult\": 0,\n",
    "            \"bndbox\": {\n",
    "                \"xmin\": int(top_x * width),\n",
    "                \"ymin\": int(top_y * height),\n",
    "                \"xman\": int(bottom_x * width),\n",
    "                \"yman\": int(bottom_y * height),\n",
    "            }\n",
    "        }\n",
    "    }\n",
    "    xml = dicttoxml(annotation, custom_root='anntation', attr_type=False)\n",
    "\n",
    "    xml_string = xml.decode(\"utf-8\")\n",
    "    \n",
    "    xml_string = xml_string.replace('<?xml version=\"1.0\" encoding=\"UTF-8\" ?>', '')\n",
    "\n",
    "    return xml_string"
   ]
  },
  {
   "cell_type": "code",
   "execution_count": 24,
   "metadata": {},
   "outputs": [],
   "source": [
    "def prepare_data():\n",
    "    ! mkdir 'number_plate'\n",
    "    \n",
    "    images_dir = 'number_plate/images/'\n",
    "    ! mkdir $images_dir\n",
    "    \n",
    "    annotations_dir = 'number_plate/annotations/'\n",
    "    ! mkdir $annotations_dir\n",
    "    \n",
    "    dataset = {\n",
    "        'img_file': [], 'img_width': [], 'img_height': [],\n",
    "        'top_x': [], 'top_y': [], 'bottom_x': [], 'bottom_y': []\n",
    "    }\n",
    "    \n",
    "    for index, row in number_plates_json.iterrows():\n",
    "        print (f'making files for row #{index+1}..')\n",
    "        \n",
    "        file_name = f'car_{index + 1}'\n",
    "        img_file = f'{file_name}.jpg'\n",
    "        txt_file = f'{file_name}.txt'\n",
    "        \n",
    "        img_url = row['content']\n",
    "        img = urllib.request.urlopen(img_url)\n",
    "        img = Image.open(img).convert('RGB')\n",
    "        img.save(f'{images_dir}{img_file}', 'JPEG')\n",
    "        \n",
    "        annotation = row['annotation'][0]\n",
    "        img_width = annotation['imageWidth']\n",
    "        img_height = annotation['imageHeight']\n",
    "        top_x = annotation['points'][0]['x']\n",
    "        top_y = annotation['points'][0]['y']\n",
    "        bottom_x = annotation['points'][1]['x']\n",
    "        bottom_y = annotation['points'][1]['y']\n",
    "        \n",
    "        dataset['img_file'].append(img_file)\n",
    "        dataset['img_width'].append(img_width)\n",
    "        dataset['img_height'].append(img_height)\n",
    "        dataset['top_x'].append(top_x)\n",
    "        dataset['top_y'].append(top_y)\n",
    "        dataset['bottom_x'].append(bottom_x)\n",
    "        dataset['bottom_y'].append(bottom_y)\n",
    "        \n",
    "        annotation_xml = get_annotation_xml(img_file, top_x, top_y, bottom_x, bottom_y, img_width, img_height)\n",
    "        annotation_file = open(f'{annotations_dir}{file_name}.xml','w+')\n",
    "        annotation_file.write(annotation_xml)\n",
    "        annotation_file.close()\n",
    "        \n",
    "    print(f'Number of car images downloaded - {len(dataset[\"img_file\"])}\\n')\n",
    "    print ('\\n')\n",
    "    ! ls -ltrh $images_dir | grep .jpg | head -10\n",
    "    \n",
    "    print ('\\n')\n",
    "    ! ls -ltrh $annotations_dir | grep .xml | head -10\n",
    "    \n",
    "    return pd.DataFrame(dataset)"
   ]
  },
  {
   "cell_type": "code",
   "execution_count": 25,
   "metadata": {},
   "outputs": [
    {
     "name": "stderr",
     "output_type": "stream",
     "text": [
      "���� ������ �ùٸ��� �ʽ��ϴ�.\n"
     ]
    },
    {
     "name": "stdout",
     "output_type": "stream",
     "text": [
      "making files for row #1..\n"
     ]
    },
    {
     "name": "stderr",
     "output_type": "stream",
     "text": [
      "���� ������ �ùٸ��� �ʽ��ϴ�.\n"
     ]
    },
    {
     "ename": "HTTPError",
     "evalue": "HTTP Error 403: Forbidden",
     "output_type": "error",
     "traceback": [
      "\u001b[1;31m---------------------------------------------------------------------------\u001b[0m",
      "\u001b[1;31mHTTPError\u001b[0m                                 Traceback (most recent call last)",
      "\u001b[1;32mc:\\Users\\USER\\Desktop\\File\\DLStudy\\kaggle\\003 VehicleDetection\\VehicleDetection.ipynb 셀 10\u001b[0m in \u001b[0;36m<cell line: 1>\u001b[1;34m()\u001b[0m\n\u001b[1;32m----> <a href='vscode-notebook-cell:/c%3A/Users/USER/Desktop/File/DLStudy/kaggle/003%20VehicleDetection/VehicleDetection.ipynb#X15sZmlsZQ%3D%3D?line=0'>1</a>\u001b[0m df \u001b[39m=\u001b[39m prepare_data()\n",
      "\u001b[1;32mc:\\Users\\USER\\Desktop\\File\\DLStudy\\kaggle\\003 VehicleDetection\\VehicleDetection.ipynb 셀 10\u001b[0m in \u001b[0;36mprepare_data\u001b[1;34m()\u001b[0m\n\u001b[0;32m     <a href='vscode-notebook-cell:/c%3A/Users/USER/Desktop/File/DLStudy/kaggle/003%20VehicleDetection/VehicleDetection.ipynb#X15sZmlsZQ%3D%3D?line=19'>20</a>\u001b[0m txt_file \u001b[39m=\u001b[39m \u001b[39mf\u001b[39m\u001b[39m'\u001b[39m\u001b[39m{\u001b[39;00mfile_name\u001b[39m}\u001b[39;00m\u001b[39m.txt\u001b[39m\u001b[39m'\u001b[39m\n\u001b[0;32m     <a href='vscode-notebook-cell:/c%3A/Users/USER/Desktop/File/DLStudy/kaggle/003%20VehicleDetection/VehicleDetection.ipynb#X15sZmlsZQ%3D%3D?line=21'>22</a>\u001b[0m img_url \u001b[39m=\u001b[39m row[\u001b[39m'\u001b[39m\u001b[39mcontent\u001b[39m\u001b[39m'\u001b[39m]\n\u001b[1;32m---> <a href='vscode-notebook-cell:/c%3A/Users/USER/Desktop/File/DLStudy/kaggle/003%20VehicleDetection/VehicleDetection.ipynb#X15sZmlsZQ%3D%3D?line=22'>23</a>\u001b[0m img \u001b[39m=\u001b[39m urllib\u001b[39m.\u001b[39;49mrequest\u001b[39m.\u001b[39;49murlopen(img_url)\n\u001b[0;32m     <a href='vscode-notebook-cell:/c%3A/Users/USER/Desktop/File/DLStudy/kaggle/003%20VehicleDetection/VehicleDetection.ipynb#X15sZmlsZQ%3D%3D?line=23'>24</a>\u001b[0m img \u001b[39m=\u001b[39m Image\u001b[39m.\u001b[39mopen(img)\u001b[39m.\u001b[39mconvert(\u001b[39m'\u001b[39m\u001b[39mRGB\u001b[39m\u001b[39m'\u001b[39m)\n\u001b[0;32m     <a href='vscode-notebook-cell:/c%3A/Users/USER/Desktop/File/DLStudy/kaggle/003%20VehicleDetection/VehicleDetection.ipynb#X15sZmlsZQ%3D%3D?line=24'>25</a>\u001b[0m img\u001b[39m.\u001b[39msave(\u001b[39mf\u001b[39m\u001b[39m'\u001b[39m\u001b[39m{\u001b[39;00mimages_dir\u001b[39m}\u001b[39;00m\u001b[39m{\u001b[39;00mimg_file\u001b[39m}\u001b[39;00m\u001b[39m'\u001b[39m, \u001b[39m'\u001b[39m\u001b[39mJPEG\u001b[39m\u001b[39m'\u001b[39m)\n",
      "File \u001b[1;32mc:\\Users\\USER\\anaconda3\\lib\\urllib\\request.py:214\u001b[0m, in \u001b[0;36murlopen\u001b[1;34m(url, data, timeout, cafile, capath, cadefault, context)\u001b[0m\n\u001b[0;32m    212\u001b[0m \u001b[39melse\u001b[39;00m:\n\u001b[0;32m    213\u001b[0m     opener \u001b[39m=\u001b[39m _opener\n\u001b[1;32m--> 214\u001b[0m \u001b[39mreturn\u001b[39;00m opener\u001b[39m.\u001b[39;49mopen(url, data, timeout)\n",
      "File \u001b[1;32mc:\\Users\\USER\\anaconda3\\lib\\urllib\\request.py:523\u001b[0m, in \u001b[0;36mOpenerDirector.open\u001b[1;34m(self, fullurl, data, timeout)\u001b[0m\n\u001b[0;32m    521\u001b[0m \u001b[39mfor\u001b[39;00m processor \u001b[39min\u001b[39;00m \u001b[39mself\u001b[39m\u001b[39m.\u001b[39mprocess_response\u001b[39m.\u001b[39mget(protocol, []):\n\u001b[0;32m    522\u001b[0m     meth \u001b[39m=\u001b[39m \u001b[39mgetattr\u001b[39m(processor, meth_name)\n\u001b[1;32m--> 523\u001b[0m     response \u001b[39m=\u001b[39m meth(req, response)\n\u001b[0;32m    525\u001b[0m \u001b[39mreturn\u001b[39;00m response\n",
      "File \u001b[1;32mc:\\Users\\USER\\anaconda3\\lib\\urllib\\request.py:632\u001b[0m, in \u001b[0;36mHTTPErrorProcessor.http_response\u001b[1;34m(self, request, response)\u001b[0m\n\u001b[0;32m    629\u001b[0m \u001b[39m# According to RFC 2616, \"2xx\" code indicates that the client's\u001b[39;00m\n\u001b[0;32m    630\u001b[0m \u001b[39m# request was successfully received, understood, and accepted.\u001b[39;00m\n\u001b[0;32m    631\u001b[0m \u001b[39mif\u001b[39;00m \u001b[39mnot\u001b[39;00m (\u001b[39m200\u001b[39m \u001b[39m<\u001b[39m\u001b[39m=\u001b[39m code \u001b[39m<\u001b[39m \u001b[39m300\u001b[39m):\n\u001b[1;32m--> 632\u001b[0m     response \u001b[39m=\u001b[39m \u001b[39mself\u001b[39;49m\u001b[39m.\u001b[39;49mparent\u001b[39m.\u001b[39;49merror(\n\u001b[0;32m    633\u001b[0m         \u001b[39m'\u001b[39;49m\u001b[39mhttp\u001b[39;49m\u001b[39m'\u001b[39;49m, request, response, code, msg, hdrs)\n\u001b[0;32m    635\u001b[0m \u001b[39mreturn\u001b[39;00m response\n",
      "File \u001b[1;32mc:\\Users\\USER\\anaconda3\\lib\\urllib\\request.py:561\u001b[0m, in \u001b[0;36mOpenerDirector.error\u001b[1;34m(self, proto, *args)\u001b[0m\n\u001b[0;32m    559\u001b[0m \u001b[39mif\u001b[39;00m http_err:\n\u001b[0;32m    560\u001b[0m     args \u001b[39m=\u001b[39m (\u001b[39mdict\u001b[39m, \u001b[39m'\u001b[39m\u001b[39mdefault\u001b[39m\u001b[39m'\u001b[39m, \u001b[39m'\u001b[39m\u001b[39mhttp_error_default\u001b[39m\u001b[39m'\u001b[39m) \u001b[39m+\u001b[39m orig_args\n\u001b[1;32m--> 561\u001b[0m     \u001b[39mreturn\u001b[39;00m \u001b[39mself\u001b[39;49m\u001b[39m.\u001b[39;49m_call_chain(\u001b[39m*\u001b[39;49margs)\n",
      "File \u001b[1;32mc:\\Users\\USER\\anaconda3\\lib\\urllib\\request.py:494\u001b[0m, in \u001b[0;36mOpenerDirector._call_chain\u001b[1;34m(self, chain, kind, meth_name, *args)\u001b[0m\n\u001b[0;32m    492\u001b[0m \u001b[39mfor\u001b[39;00m handler \u001b[39min\u001b[39;00m handlers:\n\u001b[0;32m    493\u001b[0m     func \u001b[39m=\u001b[39m \u001b[39mgetattr\u001b[39m(handler, meth_name)\n\u001b[1;32m--> 494\u001b[0m     result \u001b[39m=\u001b[39m func(\u001b[39m*\u001b[39;49margs)\n\u001b[0;32m    495\u001b[0m     \u001b[39mif\u001b[39;00m result \u001b[39mis\u001b[39;00m \u001b[39mnot\u001b[39;00m \u001b[39mNone\u001b[39;00m:\n\u001b[0;32m    496\u001b[0m         \u001b[39mreturn\u001b[39;00m result\n",
      "File \u001b[1;32mc:\\Users\\USER\\anaconda3\\lib\\urllib\\request.py:641\u001b[0m, in \u001b[0;36mHTTPDefaultErrorHandler.http_error_default\u001b[1;34m(self, req, fp, code, msg, hdrs)\u001b[0m\n\u001b[0;32m    640\u001b[0m \u001b[39mdef\u001b[39;00m \u001b[39mhttp_error_default\u001b[39m(\u001b[39mself\u001b[39m, req, fp, code, msg, hdrs):\n\u001b[1;32m--> 641\u001b[0m     \u001b[39mraise\u001b[39;00m HTTPError(req\u001b[39m.\u001b[39mfull_url, code, msg, hdrs, fp)\n",
      "\u001b[1;31mHTTPError\u001b[0m: HTTP Error 403: Forbidden"
     ]
    }
   ],
   "source": [
    "df = prepare_data()"
   ]
  }
 ],
 "metadata": {
  "kernelspec": {
   "display_name": "Python 3.9.12 ('base')",
   "language": "python",
   "name": "python3"
  },
  "language_info": {
   "codemirror_mode": {
    "name": "ipython",
    "version": 3
   },
   "file_extension": ".py",
   "mimetype": "text/x-python",
   "name": "python",
   "nbconvert_exporter": "python",
   "pygments_lexer": "ipython3",
   "version": "3.9.12"
  },
  "orig_nbformat": 4,
  "vscode": {
   "interpreter": {
    "hash": "263930470851f494f0ed2879c35b57985588df20f9e529b86e97dd5eb9ddc466"
   }
  }
 },
 "nbformat": 4,
 "nbformat_minor": 2
}
