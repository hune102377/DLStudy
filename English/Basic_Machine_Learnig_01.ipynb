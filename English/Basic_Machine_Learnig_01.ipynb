{
 "cells": [
  {
   "cell_type": "markdown",
   "metadata": {},
   "source": [
    "# 머신러닝 용어 정리  \n",
    "https://developers.google.com/machine-learning/glossary/?hl=ko"
   ]
  },
  {
   "cell_type": "markdown",
   "metadata": {},
   "source": [
    "### **A**"
   ]
  },
  {
   "cell_type": "markdown",
   "metadata": {},
   "source": [
    "- **A/B Testing**  \n",
    "\n",
    "    * 서로 다른 두 개 이상의 기법을 비교해보는 통계 기법. 일반적으로 기존 사용하던 기법을 A, 새로운 기법을 B라고 한다. A/B 테스트를 통해서 두 기법 간의 유용성 또한 파악할 뿐만 아니라 두 기법 간 통계적 유의성의 차이 또한 확인 가능하다.\n",
    "    \n",
    "    * 일반적으로 A/B 테스트는 단일 메트릭에 대하여 두 가지 기법을 비교한다. 예를 들어 두 가지 기법의 정확도가 얼마나 차이나는지 비교한다."
   ]
  },
  {
   "cell_type": "markdown",
   "metadata": {},
   "source": [
    "- **Accuracy(정확도)**  \n",
    "\n",
    "    * 분류 모델이 얼마나 정확하게 분류했느냐를 수치화한 값이다.\n",
    "\n",
    "      $Accuracy = 정확한 예측 수 / 전체 예측 수$\n",
    "\n",
    "    * Binary classification(이진 분류법)의 정확도  \n",
    "    \n",
    "      $Accuracy = {(TP+TN) \\over (TP+TN+FP+FN)}$\n",
    "\n",
    "      TP : 정확하게 참의 값을 분류한 수  \n",
    "      TN : 정확하게 거짓의 값을 분류한 수  \n",
    "      FP : 참의 값을 잘못 분류한 수  \n",
    "      FN : 거짓의 값을 잘못 분류한 수"
   ]
  },
  {
   "cell_type": "markdown",
   "metadata": {},
   "source": [
    "- **action**\n",
    "\n",
    "    * 강화학습에서 환경상태 간에 전환되는 메커니즘."
   ]
  },
  {
   "cell_type": "markdown",
   "metadata": {},
   "source": [
    "- **활성화 함수(activation function)**\n",
    "\n",
    "    - 최종출력 신호를 다음 뉴런으로 보내줄지 말지 결정하는 역할\n",
    "\n",
    "    - 대표적인 활성화 함수로는 ReLU나 Sigmoid 가 있다  \n",
    "    \n",
    "    ![activation function](./img/01.png)"
   ]
  },
  {
   "cell_type": "markdown",
   "metadata": {},
   "source": [
    "- **능동 학습(Active Learnig)**\n",
    "\n",
    "    - 기계가 라벨링이 필요한 데이터 중 자동적으로, 그리고 점진적으로 가장 정보량이 많은 데이터를 선택. 라벨링이 된 예시를 확보하는데 어려운 경우 특히 유용한 방식이다."
   ]
  },
  {
   "cell_type": "markdown",
   "metadata": {},
   "source": [
    "- **AdaGrad**\n",
    "\n",
    "    - 정교한 경사 하강법(sophisticated gradient descent) 중 하나로 각각의 파라미터에대해서 경사 하강법을 통한 조정(rescale)이 적용된다."
   ]
  },
  {
   "cell_type": "markdown",
   "metadata": {},
   "source": [
    "- **agent**\n",
    "\n",
    "    - 강화학습에서는 의사 결정자를 에이전트(agent)라고 하며, 시스템을 에이전트의 환경(environment)이라고 한다.  \n",
    "    에이전트는 환경의 변화를 표현하는 상태(state)를 관측(observation)하여 일정한 정책(policy)하에 불연속적인 값이나 연속적인 값으로 된 행동을 선택"
   ]
  },
  {
   "cell_type": "markdown",
   "metadata": {},
   "source": [
    "- **병합 군집(aggolomerative clustering)**  \n",
    "\n",
    "    - 시작할 때 각 포인트를 하나의 클러스터로 지정하고 종료 조건을 만족할 때까지 비슷한 두 클러스터를 합치는 알고리즘"
   ]
  },
  {
   "cell_type": "markdown",
   "metadata": {},
   "source": [
    "- **이상감지(anomaly detection)**\n",
    "\n",
    "    - 이상치를 감지하는 기법\n"
   ]
  },
  {
   "cell_type": "markdown",
   "metadata": {},
   "source": [
    "- **AR(augemented reality)**\n",
    "\n",
    "    - 컴퓨터에서 생성된 이미지를 사용자의 실제 세계관에 중첩하여 합성 뷰를 제공하는 기술"
   ]
  },
  {
   "cell_type": "markdown",
   "metadata": {},
   "source": [
    "- **PR AUC(area under the PR curve)**\n",
    "\n",
    "    - 모든 임계값에 따라 x 축을 (1 - 특이도)로 y축을 민감도를 그린 그림, 1 - 특이도(FN)이 작을 수록 좋고 민감도(TP)가 클수록 좋음"
   ]
  },
  {
   "cell_type": "markdown",
   "metadata": {},
   "source": [
    "![AUC](./img/02.PNG)"
   ]
  },
  {
   "cell_type": "markdown",
   "metadata": {},
   "source": [
    "- **AUC(area under the ROC curve)**\n",
    "\n",
    "    - PR AUC 그래프에서 파란 곡선 아래 면적의 넓이"
   ]
  },
  {
   "cell_type": "markdown",
   "metadata": {},
   "source": [
    "- **인공 일반 지능(artificial general intelligence)**\n",
    "\n",
    "    - 강인공지능이라고도 하며 인간이 할 수 있는 어떠한 지적인 업무도 성곡적으로 해낼 수 있는 기계 지능"
   ]
  },
  {
   "cell_type": "markdown",
   "metadata": {},
   "source": [
    "- **인공 지능(artificial intelligence)**\n",
    "\n",
    "    - 정교한 작업을 수행할 수 있는 기계나 모델"
   ]
  },
  {
   "cell_type": "markdown",
   "metadata": {},
   "source": [
    "- **attention**\n",
    "\n",
    "    - 데이터 종속 방식으로 입력 집합의 정보를 집계하는 광범위한 신경망 아키텍처 메커니즘 중 하나. 일반적인 주의 메커니즘은 입력 세트에 대한 가중치 합으로 구성될 수 있으며, 여기서 각 입력에 대한 가중치는 신경망의 다른 부분에 의해 계산된다."
   ]
  },
  {
   "cell_type": "markdown",
   "metadata": {},
   "source": [
    "- **attribute**\n",
    "\n",
    "    - feature(특성)과 동의어"
   ]
  },
  {
   "cell_type": "markdown",
   "metadata": {},
   "source": [
    "- **attribute sampling**\n",
    "\n",
    "    - 특정 특성만 사용하는 기법"
   ]
  },
  {
   "cell_type": "markdown",
   "metadata": {},
   "source": [
    "- **증강 현실(augmented reality)**\n",
    "\n",
    "    - 컴퓨터에서 생성된 이미지를 사용자의 실제 세계관에 중첩하여 합성 뷰를 제공하는 기술"
   ]
  },
  {
   "cell_type": "markdown",
   "metadata": {},
   "source": [
    "- **automation bias**\n",
    "\n",
    "    - 자동화 편향은 인간이 자동화된 의사 결정 시스템의 제안을 선호하고 자동화 없이 만들어진 모순된 정보가 정확하더라도 무시하는 경향"
   ]
  },
  {
   "cell_type": "markdown",
   "metadata": {},
   "source": [
    "- **average precision**\n",
    "\n",
    "    - 인식 알고리즘의 성능을 하나의 값으로 표현한 것으로서 precision-recall 그래프 선 아래 쪽의 면적으로 계산, 값이 높으면 높을수록 성능이 우수하다는 의미"
   ]
  },
  {
   "cell_type": "markdown",
   "metadata": {},
   "source": [
    "- **axis-aligned condition**\n",
    "\n",
    "    - 의사 결정 트리에서 단일 특성만 포함하는 조건, oblique condition와 반대된다"
   ]
  }
 ],
 "metadata": {
  "kernelspec": {
   "display_name": "Python 3.9.12 ('base')",
   "language": "python",
   "name": "python3"
  },
  "language_info": {
   "codemirror_mode": {
    "name": "ipython",
    "version": 3
   },
   "file_extension": ".py",
   "mimetype": "text/x-python",
   "name": "python",
   "nbconvert_exporter": "python",
   "pygments_lexer": "ipython3",
   "version": "3.9.12"
  },
  "orig_nbformat": 4,
  "vscode": {
   "interpreter": {
    "hash": "263930470851f494f0ed2879c35b57985588df20f9e529b86e97dd5eb9ddc466"
   }
  }
 },
 "nbformat": 4,
 "nbformat_minor": 2
}
